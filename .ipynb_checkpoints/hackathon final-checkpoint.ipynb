{
 "cells": [
  {
   "cell_type": "code",
   "execution_count": 1,
   "metadata": {},
   "outputs": [],
   "source": [
    "import pandas as pd\n",
    "import numpy as np\n",
    "import matplotlib.pyplot as plt \n",
    "import seaborn as sns \n",
    "from sklearn.model_selection import train_test_split, cross_val_score, GridSearchCV\n",
    "from sklearn.linear_model import LogisticRegression\n",
    "from sklearn.preprocessing import StandardScaler \n",
    "from sklearn.metrics import roc_auc_score\n",
    "from sklearn.svm import SVC\n",
    "from sklearn.naive_bayes import GaussianNB, MultinomialNB\n",
    "\n",
    "import warnings\n",
    "warnings.filterwarnings(\"ignore\") # Shhhh"
   ]
  },
  {
   "cell_type": "code",
   "execution_count": 2,
   "metadata": {},
   "outputs": [],
   "source": [
    "def data_cleaning(df):\n",
    "    # remove duplicates\n",
    "    df = df[~df.duplicated()]\n",
    "    \n",
    "    # strip blank space in front of  values\n",
    "    lis = ['workclass', 'education', 'marital-status', 'occupation', 'relationship', 'sex', 'native-country', 'wage']\n",
    "    for col in lis:\n",
    "        df[col] = df[col].str.strip()\n",
    "        \n",
    "    # reformat wage\n",
    "    df['wage'] = df['wage'].map({'<=50K':0, '>50K':1})\n",
    "    \n",
    "    # reformat sex \n",
    "    df['sex'] = df['sex'].map({'Male':1, \"Female\":0})\n",
    "    \n",
    "    # reformating education\n",
    "    df['education'] = df['education'].map({'Preschool':0, '1st-4th':1, '5th-6th':2, '7th-8th':3, '9th': 4, '10th': 5,\n",
    "                        '11th':6, '12th':7, 'HS-grad': 8, 'Some-college':9, 'Assoc-acdm': 10, 'Assoc-voc': 11,\n",
    "                        'Bachelors': 12, 'Prof-school': 14, 'Masters': 13, 'Doctorate': 15})\n",
    "    \n",
    "    # dumying all non-numeric features \n",
    "    df = pd.get_dummies(df)\n",
    "    return df"
   ]
  },
  {
   "cell_type": "code",
   "execution_count": 3,
   "metadata": {},
   "outputs": [],
   "source": [
    "def test_data_cleaning(df):\n",
    "    # strip blank space in front of  values\n",
    "    lis = ['workclass', 'education', 'marital-status', 'occupation', 'relationship', 'sex', 'native-country']\n",
    "    for col in lis:\n",
    "        df[col] = df[col].str.strip()\n",
    "    \n",
    "    # reformat sex \n",
    "    df['sex'] = df['sex'].map({'Male':1, \"Female\":0})\n",
    "    \n",
    "    # reformating education\n",
    "    df['education'] = df['education'].map({'Preschool':0, '1st-4th':1, '5th-6th':2, '7th-8th':3, '9th': 4, '10th': 5,\n",
    "                        '11th':6, '12th':7, 'HS-grad': 8, 'Some-college':9, 'Assoc-acdm': 10, 'Assoc-voc': 11,\n",
    "                        'Bachelors': 12, 'Prof-school': 14, 'Masters': 13, 'Doctorate': 15})\n",
    "    \n",
    "    # dumying all non-numeric features \n",
    "    df = pd.get_dummies(df)\n",
    "    return df\n"
   ]
  },
  {
   "cell_type": "code",
   "execution_count": 4,
   "metadata": {},
   "outputs": [],
   "source": [
    "# Reading data \n",
    "df = pd.read_csv('data/large_train_sample.csv')\n",
    "test_df = pd.read_csv('data/test_data.csv')"
   ]
  },
  {
   "cell_type": "code",
   "execution_count": 5,
   "metadata": {},
   "outputs": [],
   "source": [
    "# Cleaning df \n",
    "df = data_cleaning(df)"
   ]
  },
  {
   "cell_type": "code",
   "execution_count": 6,
   "metadata": {},
   "outputs": [
    {
     "data": {
      "text/html": [
       "<div>\n",
       "<style scoped>\n",
       "    .dataframe tbody tr th:only-of-type {\n",
       "        vertical-align: middle;\n",
       "    }\n",
       "\n",
       "    .dataframe tbody tr th {\n",
       "        vertical-align: top;\n",
       "    }\n",
       "\n",
       "    .dataframe thead th {\n",
       "        text-align: right;\n",
       "    }\n",
       "</style>\n",
       "<table border=\"1\" class=\"dataframe\">\n",
       "  <thead>\n",
       "    <tr style=\"text-align: right;\">\n",
       "      <th></th>\n",
       "      <th>age</th>\n",
       "      <th>fnlwgt</th>\n",
       "      <th>education</th>\n",
       "      <th>education-num</th>\n",
       "      <th>sex</th>\n",
       "      <th>capital-gain</th>\n",
       "      <th>capital-loss</th>\n",
       "      <th>hours-per-week</th>\n",
       "      <th>wage</th>\n",
       "      <th>workclass_?</th>\n",
       "      <th>...</th>\n",
       "      <th>native-country_Portugal</th>\n",
       "      <th>native-country_Puerto-Rico</th>\n",
       "      <th>native-country_Scotland</th>\n",
       "      <th>native-country_South</th>\n",
       "      <th>native-country_Taiwan</th>\n",
       "      <th>native-country_Thailand</th>\n",
       "      <th>native-country_Trinadad&amp;Tobago</th>\n",
       "      <th>native-country_United-States</th>\n",
       "      <th>native-country_Vietnam</th>\n",
       "      <th>native-country_Yugoslavia</th>\n",
       "    </tr>\n",
       "  </thead>\n",
       "  <tbody>\n",
       "    <tr>\n",
       "      <th>0</th>\n",
       "      <td>39</td>\n",
       "      <td>77516</td>\n",
       "      <td>12</td>\n",
       "      <td>13</td>\n",
       "      <td>1</td>\n",
       "      <td>2174</td>\n",
       "      <td>0</td>\n",
       "      <td>40</td>\n",
       "      <td>0</td>\n",
       "      <td>0</td>\n",
       "      <td>...</td>\n",
       "      <td>0</td>\n",
       "      <td>0</td>\n",
       "      <td>0</td>\n",
       "      <td>0</td>\n",
       "      <td>0</td>\n",
       "      <td>0</td>\n",
       "      <td>0</td>\n",
       "      <td>1</td>\n",
       "      <td>0</td>\n",
       "      <td>0</td>\n",
       "    </tr>\n",
       "    <tr>\n",
       "      <th>1</th>\n",
       "      <td>50</td>\n",
       "      <td>83311</td>\n",
       "      <td>12</td>\n",
       "      <td>13</td>\n",
       "      <td>1</td>\n",
       "      <td>0</td>\n",
       "      <td>0</td>\n",
       "      <td>13</td>\n",
       "      <td>0</td>\n",
       "      <td>0</td>\n",
       "      <td>...</td>\n",
       "      <td>0</td>\n",
       "      <td>0</td>\n",
       "      <td>0</td>\n",
       "      <td>0</td>\n",
       "      <td>0</td>\n",
       "      <td>0</td>\n",
       "      <td>0</td>\n",
       "      <td>1</td>\n",
       "      <td>0</td>\n",
       "      <td>0</td>\n",
       "    </tr>\n",
       "    <tr>\n",
       "      <th>2</th>\n",
       "      <td>38</td>\n",
       "      <td>215646</td>\n",
       "      <td>8</td>\n",
       "      <td>9</td>\n",
       "      <td>1</td>\n",
       "      <td>0</td>\n",
       "      <td>0</td>\n",
       "      <td>40</td>\n",
       "      <td>0</td>\n",
       "      <td>0</td>\n",
       "      <td>...</td>\n",
       "      <td>0</td>\n",
       "      <td>0</td>\n",
       "      <td>0</td>\n",
       "      <td>0</td>\n",
       "      <td>0</td>\n",
       "      <td>0</td>\n",
       "      <td>0</td>\n",
       "      <td>1</td>\n",
       "      <td>0</td>\n",
       "      <td>0</td>\n",
       "    </tr>\n",
       "    <tr>\n",
       "      <th>3</th>\n",
       "      <td>53</td>\n",
       "      <td>234721</td>\n",
       "      <td>6</td>\n",
       "      <td>7</td>\n",
       "      <td>1</td>\n",
       "      <td>0</td>\n",
       "      <td>0</td>\n",
       "      <td>40</td>\n",
       "      <td>0</td>\n",
       "      <td>0</td>\n",
       "      <td>...</td>\n",
       "      <td>0</td>\n",
       "      <td>0</td>\n",
       "      <td>0</td>\n",
       "      <td>0</td>\n",
       "      <td>0</td>\n",
       "      <td>0</td>\n",
       "      <td>0</td>\n",
       "      <td>1</td>\n",
       "      <td>0</td>\n",
       "      <td>0</td>\n",
       "    </tr>\n",
       "    <tr>\n",
       "      <th>4</th>\n",
       "      <td>28</td>\n",
       "      <td>338409</td>\n",
       "      <td>12</td>\n",
       "      <td>13</td>\n",
       "      <td>0</td>\n",
       "      <td>0</td>\n",
       "      <td>0</td>\n",
       "      <td>40</td>\n",
       "      <td>0</td>\n",
       "      <td>0</td>\n",
       "      <td>...</td>\n",
       "      <td>0</td>\n",
       "      <td>0</td>\n",
       "      <td>0</td>\n",
       "      <td>0</td>\n",
       "      <td>0</td>\n",
       "      <td>0</td>\n",
       "      <td>0</td>\n",
       "      <td>0</td>\n",
       "      <td>0</td>\n",
       "      <td>0</td>\n",
       "    </tr>\n",
       "  </tbody>\n",
       "</table>\n",
       "<p>5 rows × 88 columns</p>\n",
       "</div>"
      ],
      "text/plain": [
       "   age  fnlwgt  education  education-num  sex  capital-gain  capital-loss  \\\n",
       "0   39   77516         12             13    1          2174             0   \n",
       "1   50   83311         12             13    1             0             0   \n",
       "2   38  215646          8              9    1             0             0   \n",
       "3   53  234721          6              7    1             0             0   \n",
       "4   28  338409         12             13    0             0             0   \n",
       "\n",
       "   hours-per-week  wage  workclass_?  ...  native-country_Portugal  \\\n",
       "0              40     0            0  ...                        0   \n",
       "1              13     0            0  ...                        0   \n",
       "2              40     0            0  ...                        0   \n",
       "3              40     0            0  ...                        0   \n",
       "4              40     0            0  ...                        0   \n",
       "\n",
       "   native-country_Puerto-Rico  native-country_Scotland  native-country_South  \\\n",
       "0                           0                        0                     0   \n",
       "1                           0                        0                     0   \n",
       "2                           0                        0                     0   \n",
       "3                           0                        0                     0   \n",
       "4                           0                        0                     0   \n",
       "\n",
       "   native-country_Taiwan  native-country_Thailand  \\\n",
       "0                      0                        0   \n",
       "1                      0                        0   \n",
       "2                      0                        0   \n",
       "3                      0                        0   \n",
       "4                      0                        0   \n",
       "\n",
       "   native-country_Trinadad&Tobago  native-country_United-States  \\\n",
       "0                               0                             1   \n",
       "1                               0                             1   \n",
       "2                               0                             1   \n",
       "3                               0                             1   \n",
       "4                               0                             0   \n",
       "\n",
       "   native-country_Vietnam  native-country_Yugoslavia  \n",
       "0                       0                          0  \n",
       "1                       0                          0  \n",
       "2                       0                          0  \n",
       "3                       0                          0  \n",
       "4                       0                          0  \n",
       "\n",
       "[5 rows x 88 columns]"
      ]
     },
     "execution_count": 6,
     "metadata": {},
     "output_type": "execute_result"
    }
   ],
   "source": [
    "df.head()"
   ]
  },
  {
   "cell_type": "code",
   "execution_count": 23,
   "metadata": {},
   "outputs": [
    {
     "name": "stdout",
     "output_type": "stream",
     "text": [
      "wage\n",
      "workclass_?\n",
      "workclass_Federal-gov\n",
      "workclass_Local-gov\n",
      "workclass_Never-worked\n",
      "workclass_Private\n",
      "workclass_Self-emp-inc\n",
      "workclass_Self-emp-not-inc\n",
      "workclass_State-gov\n",
      "workclass_Without-pay\n",
      "marital-status_Divorced\n",
      "marital-status_Married-AF-spouse\n",
      "marital-status_Married-civ-spouse\n",
      "marital-status_Married-spouse-absent\n",
      "marital-status_Never-married\n",
      "marital-status_Separated\n",
      "marital-status_Widowed\n",
      "occupation_?\n",
      "occupation_Adm-clerical\n",
      "occupation_Armed-Forces\n",
      "occupation_Craft-repair\n",
      "occupation_Exec-managerial\n",
      "occupation_Farming-fishing\n",
      "occupation_Handlers-cleaners\n",
      "occupation_Machine-op-inspct\n",
      "occupation_Other-service\n",
      "occupation_Priv-house-serv\n",
      "occupation_Prof-specialty\n",
      "occupation_Protective-serv\n",
      "occupation_Sales\n",
      "occupation_Tech-support\n",
      "occupation_Transport-moving\n",
      "relationship_Husband\n",
      "relationship_Not-in-family\n",
      "relationship_Other-relative\n",
      "relationship_Own-child\n",
      "relationship_Unmarried\n",
      "relationship_Wife\n",
      "native-country_?\n",
      "native-country_Cambodia\n",
      "native-country_Canada\n",
      "native-country_China\n",
      "native-country_Columbia\n",
      "native-country_Cuba\n",
      "native-country_Dominican-Republic\n",
      "native-country_Ecuador\n",
      "native-country_El-Salvador\n",
      "native-country_England\n",
      "native-country_France\n",
      "native-country_Germany\n",
      "native-country_Greece\n",
      "native-country_Guatemala\n",
      "native-country_Haiti\n",
      "native-country_Holand-Netherlands\n",
      "native-country_Honduras\n",
      "native-country_Hong\n",
      "native-country_Hungary\n",
      "native-country_India\n",
      "native-country_Iran\n",
      "native-country_Ireland\n",
      "native-country_Italy\n",
      "native-country_Jamaica\n",
      "native-country_Japan\n",
      "native-country_Laos\n",
      "native-country_Mexico\n",
      "native-country_Nicaragua\n",
      "native-country_Outlying-US(Guam-USVI-etc)\n",
      "native-country_Peru\n",
      "native-country_Philippines\n",
      "native-country_Poland\n",
      "native-country_Portugal\n",
      "native-country_Puerto-Rico\n",
      "native-country_Scotland\n",
      "native-country_South\n",
      "native-country_Taiwan\n",
      "native-country_Thailand\n",
      "native-country_Trinadad&Tobago\n",
      "native-country_United-States\n",
      "native-country_Vietnam\n",
      "native-country_Yugoslavia\n"
     ]
    }
   ],
   "source": [
    "for col in df.columns:\n",
    "    if col not in test_df.columns:\n",
    "        print(col)"
   ]
  },
  {
   "cell_type": "markdown",
   "metadata": {},
   "source": [
    "Model Prep"
   ]
  },
  {
   "cell_type": "code",
   "execution_count": 24,
   "metadata": {},
   "outputs": [],
   "source": [
    "X = df[['capital-gain','marital-status_Married-civ-spouse',\n",
    "        'education-num','hours-per-week', 'sex',\n",
    "        'age', 'relationship_Own-child',\n",
    "        'occupation_Exec-managerial', 'relationship_Wife',\n",
    "        'capital-loss', 'marital-status_Never-married',\n",
    "        'occupation_Prof-specialty','occupation_Other-service',\n",
    "        'occupation_Priv-house-serv', 'occupation_Farming-fishing',\n",
    "        'education', 'occupation_Sales', 'occupation_Tech-support',\n",
    "        'occupation_?' ,'relationship_Other-relative']]\n",
    "\n",
    "ss = StandardScaler()\n",
    "Xsc = ss.fit_transform(X)\n",
    "\n",
    "y = df['wage']\n",
    "X_train, X_test, y_train, y_test = train_test_split(Xsc, y, random_state=42, stratify=y)"
   ]
  },
  {
   "cell_type": "code",
   "execution_count": 25,
   "metadata": {},
   "outputs": [
    {
     "data": {
      "text/plain": [
       "(24402, 20)"
      ]
     },
     "execution_count": 25,
     "metadata": {},
     "output_type": "execute_result"
    }
   ],
   "source": [
    "X_train.shape"
   ]
  },
  {
   "cell_type": "markdown",
   "metadata": {},
   "source": [
    "Modeling"
   ]
  },
  {
   "cell_type": "markdown",
   "metadata": {},
   "source": [
    "Baseline"
   ]
  },
  {
   "cell_type": "code",
   "execution_count": 10,
   "metadata": {},
   "outputs": [
    {
     "data": {
      "text/plain": [
       "0    0.759074\n",
       "1    0.240926\n",
       "Name: wage, dtype: float64"
      ]
     },
     "execution_count": 10,
     "metadata": {},
     "output_type": "execute_result"
    }
   ],
   "source": [
    "y.value_counts(normalize=True)"
   ]
  },
  {
   "cell_type": "markdown",
   "metadata": {},
   "source": [
    "Logistic Regression"
   ]
  },
  {
   "cell_type": "code",
   "execution_count": 11,
   "metadata": {},
   "outputs": [
    {
     "name": "stdout",
     "output_type": "stream",
     "text": [
      "Cross Val : 0.8495868616361235\n",
      "Training  : 0.8480452421932628\n",
      "Testing   : 0.8540872771972956\n",
      "ROC AUC Score: 0.9085959679418327\n"
     ]
    }
   ],
   "source": [
    "lr = LogisticRegression(random_state=42, solver = 'liblinear')\n",
    "\n",
    "params = {\n",
    "    'penalty' : ['l1', 'l2'],\n",
    "    'C'       : [.5, 1.0],\n",
    "}\n",
    "\n",
    "gs = GridSearchCV(lr,\n",
    "                 param_grid=params,\n",
    "                 cv=5)\n",
    "\n",
    "gs.fit(X_train, y_train)\n",
    "\n",
    "print('Cross Val :', cross_val_score(gs, Xsc, y, cv=5).mean())\n",
    "print('Training  :', gs.score(X_train, y_train))\n",
    "print('Testing   :', gs.score(X_test,y_test))\n",
    "\n",
    "pred_proba = [i[1] for i in gs.predict_proba(X_test)]\n",
    "pred_df = pd.DataFrame({'true_values': y_test,\n",
    "                        'pred_probs':pred_proba})\n",
    "print('ROC AUC Score:', roc_auc_score(pred_df['true_values'], pred_df['pred_probs']))\n"
   ]
  },
  {
   "cell_type": "code",
   "execution_count": 12,
   "metadata": {
    "scrolled": true
   },
   "outputs": [
    {
     "data": {
      "text/plain": [
       "{'C': 0.5, 'penalty': 'l2'}"
      ]
     },
     "execution_count": 12,
     "metadata": {},
     "output_type": "execute_result"
    }
   ],
   "source": [
    "gs.best_params_"
   ]
  },
  {
   "cell_type": "markdown",
   "metadata": {},
   "source": [
    "Submission"
   ]
  },
  {
   "cell_type": "code",
   "execution_count": 29,
   "metadata": {},
   "outputs": [
    {
     "data": {
      "text/plain": [
       "Index(['age', 'workclass', 'fnlwgt', 'education', 'education-num',\n",
       "       'marital-status', 'occupation', 'relationship', 'sex', 'capital-gain',\n",
       "       'capital-loss', 'hours-per-week', 'native-country'],\n",
       "      dtype='object')"
      ]
     },
     "execution_count": 29,
     "metadata": {},
     "output_type": "execute_result"
    }
   ],
   "source": [
    "test_df.columns\n"
   ]
  },
  {
   "cell_type": "code",
   "execution_count": 30,
   "metadata": {},
   "outputs": [],
   "source": [
    "X_val = test_df[['capital-gain','marital-status_Married-civ-spouse',\n",
    "        'education-num','hours-per-week', 'sex',\n",
    "        'age', 'relationship_Own-child',\n",
    "        'occupation_Exec-managerial', 'relationship_Wife',\n",
    "        'capital-loss', 'marital-status_Never-married',\n",
    "        'occupation_Prof-specialty','occupation_Other-service',\n",
    "        'occupation_Priv-house-serv', 'occupation_Farming-fishing',\n",
    "        'education', 'occupation_Sales', 'occupation_Tech-support',\n",
    "        'occupation_?' ,'relationship_Other-relative']]"
   ]
  },
  {
   "cell_type": "code",
   "execution_count": 33,
   "metadata": {},
   "outputs": [],
   "source": [
    "# Scaling data \n",
    "test_scaled = ss.transform(X_val)"
   ]
  },
  {
   "cell_type": "code",
   "execution_count": 34,
   "metadata": {},
   "outputs": [],
   "source": [
    "# Getting predictions\n",
    "preds_val = [i[1] for i in gs.predict_proba(test_scaled)]"
   ]
  },
  {
   "cell_type": "code",
   "execution_count": 38,
   "metadata": {},
   "outputs": [],
   "source": [
    "preds_col = pd.DataFrame({'wage': preds_val})"
   ]
  },
  {
   "cell_type": "code",
   "execution_count": 39,
   "metadata": {},
   "outputs": [],
   "source": [
    "preds_col.to_csv('./submission.csv', index = False)"
   ]
  },
  {
   "cell_type": "code",
   "execution_count": 40,
   "metadata": {},
   "outputs": [],
   "source": [
    "#test_df.shape"
   ]
  },
  {
   "cell_type": "code",
   "execution_count": 41,
   "metadata": {},
   "outputs": [],
   "source": [
    "#preds_col.shape"
   ]
  },
  {
   "cell_type": "code",
   "execution_count": null,
   "metadata": {},
   "outputs": [],
   "source": []
  }
 ],
 "metadata": {
  "kernelspec": {
   "display_name": "Python 3",
   "language": "python",
   "name": "python3"
  },
  "language_info": {
   "codemirror_mode": {
    "name": "ipython",
    "version": 3
   },
   "file_extension": ".py",
   "mimetype": "text/x-python",
   "name": "python",
   "nbconvert_exporter": "python",
   "pygments_lexer": "ipython3",
   "version": "3.7.6"
  }
 },
 "nbformat": 4,
 "nbformat_minor": 4
}
